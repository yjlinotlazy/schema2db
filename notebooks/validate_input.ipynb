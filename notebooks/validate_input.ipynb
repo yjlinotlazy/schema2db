{
 "cells": [
  {
   "cell_type": "code",
   "execution_count": 35,
   "metadata": {},
   "outputs": [
    {
     "name": "stdout",
     "output_type": "stream",
     "text": [
      "The autoreload extension is already loaded. To reload it, use:\n",
      "  %reload_ext autoreload\n"
     ]
    }
   ],
   "source": [
    "%load_ext autoreload\n",
    "%autoreload 2\n",
    "\n",
    "from schema2db import validate\n",
    "import re"
   ]
  },
  {
   "cell_type": "code",
   "execution_count": 5,
   "metadata": {},
   "outputs": [],
   "source": [
    "import pandas as pd\n",
    "import numpy as np"
   ]
  },
  {
   "cell_type": "code",
   "execution_count": 12,
   "metadata": {},
   "outputs": [],
   "source": [
    "inputfile = '../tests/testdata/testschema1.sql'\n",
    "with open(inputfile, 'r') as f:\n",
    "    inputstr = f.read()"
   ]
  },
  {
   "cell_type": "code",
   "execution_count": 14,
   "metadata": {},
   "outputs": [],
   "source": [
    "components = inputstr.split(\";\")"
   ]
  },
  {
   "cell_type": "code",
   "execution_count": 15,
   "metadata": {},
   "outputs": [
    {
     "data": {
      "text/plain": [
       "'create table prices (\\n   itemid int(16) unsigned not null,\\n   itemname varchar(20) not null,\\n   price decimal(9,6) signed not null,\\n   primary key (itemid)\\n)'"
      ]
     },
     "execution_count": 15,
     "metadata": {},
     "output_type": "execute_result"
    }
   ],
   "source": [
    "components[0]"
   ]
  },
  {
   "cell_type": "code",
   "execution_count": 16,
   "metadata": {},
   "outputs": [],
   "source": [
    "table_str = components[0]"
   ]
  },
  {
   "cell_type": "code",
   "execution_count": 79,
   "metadata": {},
   "outputs": [],
   "source": [
    "def get_table_name(words):\n",
    "    if words[1].lower() != 'table'.lower():\n",
    "        raise ValueError(\"You can only create tables, not {}\".format(words[1]))\n",
    "    else:\n",
    "        return words[2]\n",
    "\n",
    "def get_instruction(words):\n",
    "    if words[0].lower() not in ['alter', 'create']:\n",
    "        raise NotImplementedError(\"{} operation not supported\".format(words[0]))\n",
    "    else:\n",
    "        return words[0].lower()\n",
    "\n",
    "def extract_datatype(words):\n",
    "    strtype = {}\n",
    "    next_pos = 1\n",
    "    strtype['type'] = (re.findall(\"[a-zA-Z]+\", words[0]))[0].lower()\n",
    "    strtype['args'] = re.findall(\"[0-9]+\", words[0])\n",
    "    if len(words) > 1 and words[1].lower() == 'signed':\n",
    "        strtype['signed'] = True\n",
    "        next_pos += 1\n",
    "    elif len(words) > 1 and words[1].lower() == 'unsigned':\n",
    "        strtype['signed'] = False\n",
    "        next_pos += 1\n",
    "    return strtype, words[next_pos:]\n",
    "\n",
    "def extract_null(words):\n",
    "    ifnull = None\n",
    "    if 'not null' in \" \".join([s for s in words]):\n",
    "        ifnull = False\n",
    "        nextpos = 2\n",
    "    elif 'null' in \" \".join([s for s in words]):\n",
    "        ifnull = True\n",
    "        nextpos = 1\n",
    "    if len(words) > nextpos:\n",
    "        return ifnull, words[1:]\n",
    "    else:\n",
    "        return ifnull, None\n",
    "    \n",
    "\n",
    "def parse_alter(sql_cmds):\n",
    "    constraints = []\n",
    "    pass"
   ]
  },
  {
   "cell_type": "code",
   "execution_count": 59,
   "metadata": {
    "scrolled": false
   },
   "outputs": [
    {
     "ename": "SyntaxError",
     "evalue": "'return' outside function (<ipython-input-59-6645ce91396b>, line 8)",
     "output_type": "error",
     "traceback": [
      "\u001b[0;36m  File \u001b[0;32m\"<ipython-input-59-6645ce91396b>\"\u001b[0;36m, line \u001b[0;32m8\u001b[0m\n\u001b[0;31m    return parse_create(table_words[1:])\u001b[0m\n\u001b[0m    ^\u001b[0m\n\u001b[0;31mSyntaxError\u001b[0m\u001b[0;31m:\u001b[0m 'return' outside function\n"
     ]
    }
   ],
   "source": [
    "table = {}\n",
    "table_strs = table_str.split(\"\\n\")\n",
    "table_words = [s.split() for s in table_strs]\n",
    "\n",
    "operation = get_instruction(table_words[0])\n",
    "\n",
    "if operation == 'create':\n",
    "    return parse_create(table_words[1:])\n",
    "elif operation == 'alter':\n",
    "    return parse_alter(table_words[1:])\n",
    "else:\n",
    "    raise NotImplementedError()\n",
    "\n",
    "table['name'] = get_table_name(table_words[0])\n",
    "\n",
    "table_words"
   ]
  },
  {
   "cell_type": "code",
   "execution_count": 60,
   "metadata": {},
   "outputs": [
    {
     "data": {
      "text/plain": [
       "'int(16)'"
      ]
     },
     "execution_count": 60,
     "metadata": {},
     "output_type": "execute_result"
    }
   ],
   "source": [
    "table_words[1][1]"
   ]
  },
  {
   "cell_type": "code",
   "execution_count": 83,
   "metadata": {},
   "outputs": [],
   "source": [
    "def parse_create(c):\n",
    "    cmds = []\n",
    "    cmds = {'colname': c[0]}\n",
    "    cmds['type'], cmd_remaining = extract_datatype(c[1:])\n",
    "    cmds['null'], cmd_remaining = extract_null(cmd_remaining)\n",
    "    return cmds"
   ]
  },
  {
   "cell_type": "code",
   "execution_count": 84,
   "metadata": {},
   "outputs": [
    {
     "name": "stdout",
     "output_type": "stream",
     "text": [
      "['int(16)', 'unsigned', 'not', 'null,']\n"
     ]
    },
    {
     "data": {
      "text/plain": [
       "{'colname': 'itemid',\n",
       " 'type': {'type': 'int', 'args': ['16'], 'signed': False},\n",
       " 'null': False}"
      ]
     },
     "execution_count": 84,
     "metadata": {},
     "output_type": "execute_result"
    }
   ],
   "source": [
    "parse_create(table_words[1])"
   ]
  },
  {
   "cell_type": "code",
   "execution_count": 50,
   "metadata": {},
   "outputs": [
    {
     "data": {
      "text/plain": [
       "'not null'"
      ]
     },
     "execution_count": 50,
     "metadata": {},
     "output_type": "execute_result"
    }
   ],
   "source": [
    "\" \".join(\" not  null\".split())"
   ]
  },
  {
   "cell_type": "code",
   "execution_count": null,
   "metadata": {},
   "outputs": [],
   "source": []
  }
 ],
 "metadata": {
  "kernelspec": {
   "display_name": "Python [conda env:schema2db]",
   "language": "python",
   "name": "conda-env-schema2db-py"
  },
  "language_info": {
   "codemirror_mode": {
    "name": "ipython",
    "version": 3
   },
   "file_extension": ".py",
   "mimetype": "text/x-python",
   "name": "python",
   "nbconvert_exporter": "python",
   "pygments_lexer": "ipython3",
   "version": "3.6.5"
  }
 },
 "nbformat": 4,
 "nbformat_minor": 2
}
