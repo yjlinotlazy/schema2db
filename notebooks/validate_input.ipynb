{
 "cells": [
  {
   "cell_type": "code",
   "execution_count": 3,
   "metadata": {},
   "outputs": [
    {
     "name": "stdout",
     "output_type": "stream",
     "text": [
      "The autoreload extension is already loaded. To reload it, use:\n",
      "  %reload_ext autoreload\n"
     ]
    }
   ],
   "source": [
    "%load_ext autoreload\n",
    "%autoreload 2\n",
    "\n",
    "from schema2db import validate"
   ]
  },
  {
   "cell_type": "code",
   "execution_count": 5,
   "metadata": {},
   "outputs": [],
   "source": [
    "import pandas as pd\n",
    "import numpy as np"
   ]
  },
  {
   "cell_type": "code",
   "execution_count": 12,
   "metadata": {},
   "outputs": [],
   "source": [
    "inputfile = '../tests/testdata/testschema1.sql'\n",
    "with open(inputfile, 'r') as f:\n",
    "    inputstr = f.read()"
   ]
  },
  {
   "cell_type": "code",
   "execution_count": 14,
   "metadata": {},
   "outputs": [],
   "source": [
    "components = inputstr.split(\";\")"
   ]
  },
  {
   "cell_type": "code",
   "execution_count": 15,
   "metadata": {},
   "outputs": [
    {
     "data": {
      "text/plain": [
       "'create table prices (\\n   itemid int(16) unsigned not null,\\n   itemname varchar(20) not null,\\n   price decimal(9,6) signed not null,\\n   primary key (itemid)\\n)'"
      ]
     },
     "execution_count": 15,
     "metadata": {},
     "output_type": "execute_result"
    }
   ],
   "source": [
    "components[0]"
   ]
  },
  {
   "cell_type": "code",
   "execution_count": 16,
   "metadata": {},
   "outputs": [],
   "source": [
    "table_str = components[0]"
   ]
  },
  {
   "cell_type": "code",
   "execution_count": 27,
   "metadata": {},
   "outputs": [],
   "source": [
    "def get_table_name(words):\n",
    "    if words[1].lower() != 'table'.lower():\n",
    "        raise ValueError(\"You can only create tables, not {}\".format(words[1]))\n",
    "    else:\n",
    "        return words[2]\n",
    "\n",
    "def get_instruction(words):\n",
    "    if words[0].lower() not in ['alter', 'create']:\n",
    "        raise ValueError(\"{} operation not supported\".format(words[0]))\n",
    "    else:\n",
    "        return words[0]\n"
   ]
  },
  {
   "cell_type": "code",
   "execution_count": 31,
   "metadata": {},
   "outputs": [
    {
     "name": "stdout",
     "output_type": "stream",
     "text": [
      "prices create\n"
     ]
    },
    {
     "data": {
      "text/plain": [
       "[['create', 'table', 'prices', '('],\n",
       " ['itemid', 'int(16)', 'unsigned', 'not', 'null,'],\n",
       " ['itemname', 'varchar(20)', 'not', 'null,'],\n",
       " ['price', 'decimal(9,6)', 'signed', 'not', 'null,'],\n",
       " ['primary', 'key', '(itemid)'],\n",
       " [')']]"
      ]
     },
     "execution_count": 31,
     "metadata": {},
     "output_type": "execute_result"
    }
   ],
   "source": [
    "table_strs = table_str.split(\"\\n\")\n",
    "table_words = [s.split() for s in table_strs]\n",
    "\n",
    "instruction = get_instruction(table_words[0])\n",
    "table_name = get_table_name(table_words[0])\n",
    "\n",
    "table_words"
   ]
  },
  {
   "cell_type": "code",
   "execution_count": 33,
   "metadata": {},
   "outputs": [
    {
     "data": {
      "text/plain": [
       "'int(16)'"
      ]
     },
     "execution_count": 33,
     "metadata": {},
     "output_type": "execute_result"
    }
   ],
   "source": [
    "table_words[1][1]"
   ]
  }
 ],
 "metadata": {
  "kernelspec": {
   "display_name": "Python [conda env:schema2db]",
   "language": "python",
   "name": "conda-env-schema2db-py"
  },
  "language_info": {
   "codemirror_mode": {
    "name": "ipython",
    "version": 3
   },
   "file_extension": ".py",
   "mimetype": "text/x-python",
   "name": "python",
   "nbconvert_exporter": "python",
   "pygments_lexer": "ipython3",
   "version": "3.6.5"
  }
 },
 "nbformat": 4,
 "nbformat_minor": 2
}
