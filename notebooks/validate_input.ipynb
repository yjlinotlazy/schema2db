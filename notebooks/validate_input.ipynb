{
 "cells": [
  {
   "cell_type": "code",
   "execution_count": 576,
   "metadata": {},
   "outputs": [
    {
     "name": "stdout",
     "output_type": "stream",
     "text": [
      "The autoreload extension is already loaded. To reload it, use:\n",
      "  %reload_ext autoreload\n"
     ]
    }
   ],
   "source": [
    "%load_ext autoreload\n",
    "%autoreload 2\n",
    "\n",
    "from schema2db import validate\n",
    "from schema2db.parse_schema import SchemaParser\n",
    "from schema2db.randomdata import *\n",
    "from schema2db.gendata import DBGenerator\n",
    "import pandas as pd\n",
    "import numpy as np\n",
    "import re"
   ]
  },
  {
   "cell_type": "code",
   "execution_count": 531,
   "metadata": {},
   "outputs": [
    {
     "data": {
      "text/plain": [
       "['qbu',\n",
       " 'zmmdwuaavpchejrzkkj',\n",
       " 'fzatkdcvncvd',\n",
       " 'xaod dyeks',\n",
       " 'jrldqus',\n",
       " 'ziob',\n",
       " 'ingtjjczcrgpr',\n",
       " ' extn y rgjexyy',\n",
       " 'qywaeevqmyfvcqe',\n",
       " 'bmekigq sfwlzuvljk',\n",
       " 'iu yquduqojei',\n",
       " 'hysbxdilev',\n",
       " 'izcmk',\n",
       " 'nhcwu tzkny egy',\n",
       " 'pxekgosfagiziht',\n",
       " 'oisyaoskktqt',\n",
       " 'skunebqm uz  csht',\n",
       " 'fqyl gbpysbekavi',\n",
       " 'zuddfr',\n",
       " 'kmthqryczcuxxpgw',\n",
       " 'lhcgialjmapyp',\n",
       " 'tnpxegqjousgpexpyvk',\n",
       " 'ichfjsqnmklcmyervd',\n",
       " 'lonwyahggvrp',\n",
       " 'efouzzl',\n",
       " 'gcijl fqjcpcr',\n",
       " 'wi',\n",
       " ' rnymmcrbjgiohsdnive',\n",
       " 'vfj pwc a cckz',\n",
       " 'povenvw ',\n",
       " 'johdlzhlymlzzuc j',\n",
       " 'sinqyk',\n",
       " 'q',\n",
       " 'zyppoawcbwp',\n",
       " 'uqavqxvberyaanmfi',\n",
       " 'qyzo aaitlqb',\n",
       " ' wfwuzmcnc',\n",
       " 'ygqfkbkjx',\n",
       " 'nirvmytfurtofwiegs',\n",
       " 'tcgmx',\n",
       " 'pkrtynfgkeoerk',\n",
       " 'guzrx',\n",
       " 'fytpiepcutzaltin',\n",
       " 'pnsmgrwau',\n",
       " 'zpb wdf',\n",
       " 'x',\n",
       " 'fhpelynh',\n",
       " 'gnpeigawefurwaahzo',\n",
       " 'vsxqgpbkk',\n",
       " 'b']"
      ]
     },
     "execution_count": 531,
     "metadata": {},
     "output_type": "execute_result"
    }
   ],
   "source": [
    "random_list('varchar', [20], 10)"
   ]
  },
  {
   "cell_type": "code",
   "execution_count": 532,
   "metadata": {},
   "outputs": [
    {
     "name": "stdout",
     "output_type": "stream",
     "text": [
      "7155\n",
      "rgm\n",
      "-52.53\n"
     ]
    }
   ],
   "source": [
    "print(random_int(signed=False))\n",
    "print(random_varchar())\n",
    "print(random_decimal(4,2))"
   ]
  },
  {
   "cell_type": "code",
   "execution_count": null,
   "metadata": {},
   "outputs": [],
   "source": []
  },
  {
   "cell_type": "code",
   "execution_count": 533,
   "metadata": {},
   "outputs": [],
   "source": [
    "inputfile = '../tests/testdata/testschema1.sql'\n",
    "with open(inputfile, 'r') as f:\n",
    "    inputstr = f.read()"
   ]
  },
  {
   "cell_type": "code",
   "execution_count": 534,
   "metadata": {
    "scrolled": false
   },
   "outputs": [
    {
     "name": "stdout",
     "output_type": "stream",
     "text": [
      "create\n",
      "{'prices': {'columns': [{'name': 'itemid', 'type': {'type': 'int', 'args': ['16'], 'signed': False}, 'null': False}, {'name': 'itemname', 'type': {'type': 'varchar', 'args': ['20']}, 'null': False}, {'name': 'price', 'type': {'type': 'decimal', 'args': ['9', '6'], 'signed': True}, 'null': False}, {'name': 'sold', 'type': {'type': 'int', 'args': ['16'], 'signed': False}, 'null': False, 'default': '0,'}], 'primary_keys': [['itemid']], 'tablename': 'prices', 'operation': 'create'}, 'sales': {'columns': [{'name': 'saleid', 'type': {'type': 'int', 'args': ['16'], 'signed': False}, 'null': False}, {'name': 'itemid', 'type': {'type': 'int', 'args': ['16'], 'signed': False}, 'null': False}, {'name': 'saledate', 'type': {'type': 'date', 'args': []}, 'null': False}, {'name': 'quantity', 'type': {'type': 'int', 'args': ['16'], 'signed': False}, 'null': False}, {'name': 'buyername', 'type': {'type': 'varchar', 'args': ['60']}, 'null': True}], 'primary_keys': [['saleid']], 'tablename': 'sales', 'operation': 'create'}}\n",
      "---\n",
      "alter\n",
      "{'sales': {'check': [], 'foreign_keys': [{'column': 'itemid', 'source_column': 'itemid', 'referenced': 'prices'}], 'tablename': 'sales', 'operation': 'alter'}, 'prices': {'check': [{'type': 'enum', 'column': 'sold', 'values': ['0', '1']}], 'foreign_keys': [], 'tablename': 'prices', 'operation': 'alter'}}\n",
      "---\n"
     ]
    }
   ],
   "source": [
    "parser = SchemaParser()\n",
    "parsed = parser.extract_sql_doc(\"../tests/testdata/testschema1.sql\")\n",
    "for p in parsed:\n",
    "    print(p)\n",
    "    print(parsed[p])\n",
    "    print('---')"
   ]
  },
  {
   "cell_type": "code",
   "execution_count": null,
   "metadata": {},
   "outputs": [],
   "source": []
  },
  {
   "cell_type": "code",
   "execution_count": 587,
   "metadata": {},
   "outputs": [
    {
     "name": "stdout",
     "output_type": "stream",
     "text": [
      "['prices', 'sales']\n",
      "----\n",
      "['sales', 'prices']\n",
      "waiting: ['prices', 'sales']\n",
      "processing prices\n",
      "{'check': [{'type': 'enum', 'column': 'sold', 'values': ['0', '1']}], 'foreign_keys': [], 'tablename': 'prices', 'operation': 'alter'}\n",
      "itemid\n",
      "{'datatype': 'int', 'args': [16], 'signed': False, 'isnull': False, 'primary_key': False}\n",
      "{'datatype': 'int', 'args': [16], 'signed': False, 'isnull': False, 'primary_key': False}\n",
      "itemname\n",
      "{'datatype': 'varchar', 'args': [20], 'signed': None, 'isnull': False, 'primary_key': False}\n",
      "{'datatype': 'varchar', 'args': [20], 'signed': None, 'isnull': False, 'primary_key': False}\n",
      "price\n",
      "{'datatype': 'decimal', 'args': [9, 6], 'signed': True, 'isnull': False, 'primary_key': False}\n",
      "{'datatype': 'decimal', 'args': [9, 6], 'signed': True, 'isnull': False, 'primary_key': False}\n",
      "sold\n",
      "{'datatype': 'int', 'args': [16], 'signed': False, 'isnull': False, 'primary_key': False}\n",
      "['0', '1']\n",
      "{'datatype': 'int', 'args': [16], 'signed': False, 'isnull': False, 'primary_key': False, 'choices': ['0', '1']}\n",
      "waiting: ['sales']\n",
      "processing sales\n",
      "{'check': [], 'foreign_keys': [{'column': 'itemid', 'source_column': 'itemid', 'referenced': 'prices'}], 'tablename': 'sales', 'operation': 'alter'}\n",
      "saleid\n",
      "{'datatype': 'int', 'args': [16], 'signed': False, 'isnull': False, 'primary_key': False}\n",
      "{'datatype': 'int', 'args': [16], 'signed': False, 'isnull': False, 'primary_key': False}\n",
      "itemid\n",
      "{'datatype': 'int', 'args': [16], 'signed': False, 'isnull': False, 'primary_key': False}\n",
      "[502, 9852, 489, 2100, 2712, 7138, 4025, 1489, 1309, 9814, 3882, 3549, 4284, 8699, 340, 9476, 5266, 1804, 270, 1844, 7811, 6775, 6885, 7864, 1489, 7714, 8469, 4277, 2154, 6856, 2007, 6723, 1332, 9297, 1655, 5823, 5251, 3917, 1548, 1395, 4626, 2065, 913, 5916, 121, 9947, 3451, 448, 168, 6204]\n",
      "{'datatype': 'int', 'args': [16], 'signed': False, 'isnull': False, 'primary_key': False, 'choices': [502, 9852, 489, 2100, 2712, 7138, 4025, 1489, 1309, 9814, 3882, 3549, 4284, 8699, 340, 9476, 5266, 1804, 270, 1844, 7811, 6775, 6885, 7864, 1489, 7714, 8469, 4277, 2154, 6856, 2007, 6723, 1332, 9297, 1655, 5823, 5251, 3917, 1548, 1395, 4626, 2065, 913, 5916, 121, 9947, 3451, 448, 168, 6204]}\n",
      "saledate\n",
      "{'datatype': 'date', 'args': [], 'signed': None, 'isnull': False, 'primary_key': False, 'choices': [502, 9852, 489, 2100, 2712, 7138, 4025, 1489, 1309, 9814, 3882, 3549, 4284, 8699, 340, 9476, 5266, 1804, 270, 1844, 7811, 6775, 6885, 7864, 1489, 7714, 8469, 4277, 2154, 6856, 2007, 6723, 1332, 9297, 1655, 5823, 5251, 3917, 1548, 1395, 4626, 2065, 913, 5916, 121, 9947, 3451, 448, 168, 6204]}\n",
      "{'datatype': 'date', 'args': [], 'signed': None, 'isnull': False, 'primary_key': False, 'choices': [502, 9852, 489, 2100, 2712, 7138, 4025, 1489, 1309, 9814, 3882, 3549, 4284, 8699, 340, 9476, 5266, 1804, 270, 1844, 7811, 6775, 6885, 7864, 1489, 7714, 8469, 4277, 2154, 6856, 2007, 6723, 1332, 9297, 1655, 5823, 5251, 3917, 1548, 1395, 4626, 2065, 913, 5916, 121, 9947, 3451, 448, 168, 6204]}\n",
      "quantity\n",
      "{'datatype': 'int', 'args': [16], 'signed': False, 'isnull': False, 'primary_key': False, 'choices': [502, 9852, 489, 2100, 2712, 7138, 4025, 1489, 1309, 9814, 3882, 3549, 4284, 8699, 340, 9476, 5266, 1804, 270, 1844, 7811, 6775, 6885, 7864, 1489, 7714, 8469, 4277, 2154, 6856, 2007, 6723, 1332, 9297, 1655, 5823, 5251, 3917, 1548, 1395, 4626, 2065, 913, 5916, 121, 9947, 3451, 448, 168, 6204]}\n",
      "{'datatype': 'int', 'args': [16], 'signed': False, 'isnull': False, 'primary_key': False, 'choices': [502, 9852, 489, 2100, 2712, 7138, 4025, 1489, 1309, 9814, 3882, 3549, 4284, 8699, 340, 9476, 5266, 1804, 270, 1844, 7811, 6775, 6885, 7864, 1489, 7714, 8469, 4277, 2154, 6856, 2007, 6723, 1332, 9297, 1655, 5823, 5251, 3917, 1548, 1395, 4626, 2065, 913, 5916, 121, 9947, 3451, 448, 168, 6204]}\n",
      "buyername\n",
      "{'datatype': 'varchar', 'args': [60], 'signed': None, 'isnull': True, 'primary_key': False, 'choices': [502, 9852, 489, 2100, 2712, 7138, 4025, 1489, 1309, 9814, 3882, 3549, 4284, 8699, 340, 9476, 5266, 1804, 270, 1844, 7811, 6775, 6885, 7864, 1489, 7714, 8469, 4277, 2154, 6856, 2007, 6723, 1332, 9297, 1655, 5823, 5251, 3917, 1548, 1395, 4626, 2065, 913, 5916, 121, 9947, 3451, 448, 168, 6204]}\n",
      "{'datatype': 'varchar', 'args': [60], 'signed': None, 'isnull': True, 'primary_key': False, 'choices': [502, 9852, 489, 2100, 2712, 7138, 4025, 1489, 1309, 9814, 3882, 3549, 4284, 8699, 340, 9476, 5266, 1804, 270, 1844, 7811, 6775, 6885, 7864, 1489, 7714, 8469, 4277, 2154, 6856, 2007, 6723, 1332, 9297, 1655, 5823, 5251, 3917, 1548, 1395, 4626, 2065, 913, 5916, 121, 9947, 3451, 448, 168, 6204]}\n"
     ]
    }
   ],
   "source": [
    "create = [p for p in parsed.get('create')]\n",
    "alter = [p for p in parsed.get('alter')]\n",
    "waiting_room = create\n",
    "print(create)\n",
    "print(\"----\")\n",
    "print(alter)\n",
    "\n",
    "processed = []\n",
    "db = {}\n",
    "\n",
    "while len(waiting_room) > 0:\n",
    "    start_count = len(waiting_room)\n",
    "    end_count = start_count\n",
    "    for i in range(start_count):\n",
    "        cand = waiting_room.pop()\n",
    "        valid = True\n",
    "        foreign_tables = [ref['referenced'] for ref in parsed.get('alter').get(cand, {}).get('foreign_keys', [])]\n",
    "        for f in foreign_tables:\n",
    "            if f not in processed:\n",
    "                waiting_room.insert(0, cand)\n",
    "                valid = False\n",
    "                break\n",
    "        if valid:\n",
    "            table_args = parsed['create'][cand]\n",
    "            constraints = parsed.get('alter').get(cand, {})\n",
    "            db[cand] = gen_table(cand, table_args, constraints)\n",
    "            processed.append(cand)\n",
    "            end_count -= 1\n",
    "    \n",
    "    if start_count == end_count:\n",
    "        raise ValueError(\"There are some circular dependencies in foreign keys. Please double check your constraints\")"
   ]
  },
  {
   "cell_type": "code",
   "execution_count": 572,
   "metadata": {},
   "outputs": [],
   "source": [
    "#dbgenerator.gen_column_data(datatype='varchar', args=[5], signed=True)"
   ]
  },
  {
   "cell_type": "code",
   "execution_count": 586,
   "metadata": {},
   "outputs": [],
   "source": [
    "dbgenerator = DBGenerator(parsed)\n",
    "\n",
    "def gen_table(tablename, create_sql, constrain_sql, row_num=50):\n",
    "    enums = {}\n",
    "    foreign_keys = {}\n",
    "    kwargs = {}\n",
    "    rows = row_num\n",
    "    table = None\n",
    "    for c in constrain_sql.get('check', []):\n",
    "        if c['type'] == 'enum':\n",
    "            if c['column'] in enums:\n",
    "                enums[c['column']].append(c)\n",
    "            else:\n",
    "                enums[c['column']] = [c]\n",
    "    for c in constrain_sql.get('foreign_keys', []):\n",
    "        if c['column'] in foreign_keys:\n",
    "            foreign_keys[c['column']].append(c)\n",
    "        else:\n",
    "            foreign_keys[c['column']] = [c]\n",
    "    for col_sql in create_sql['columns']:\n",
    "        name = col_sql['name']\n",
    "        kwargs['datatype'] = col_sql['type']['type']\n",
    "        kwargs['args'] = [int(arg) for arg in col_sql['type']['args']]\n",
    "        kwargs['signed'] = col_sql['type'].get('signed')\n",
    "        kwargs['isnull'] = col_sql.get('null')\n",
    "        kwargs['primary_key'] = name in create_sql['primary_keys']\n",
    "\n",
    "        if enums.get(name):\n",
    "            choices = enums.get(name)[0]['values']\n",
    "            kwargs['choices'] = choices\n",
    "            rows = min(len(choices), rows)\n",
    "        elif foreign_keys.get(name):\n",
    "            d = foreign_keys.get(name)[0]\n",
    "            choices = db[d['referenced']][d['source_column']].tolist()\n",
    "            kwargs['choices'] = choices\n",
    "            rows = min(len(choices), rows)\n",
    "        rowdata = dbgenerator.gen_column_data(**kwargs)\n",
    "        if table is None:\n",
    "            table = pd.DataFrame({name: rowdata})\n",
    "        else:\n",
    "            table[name] = rowdata\n",
    "    return table\n",
    "            "
   ]
  },
  {
   "cell_type": "code",
   "execution_count": 588,
   "metadata": {},
   "outputs": [
    {
     "data": {
      "text/plain": [
       "{'prices':     itemid              itemname       price sold\n",
       " 0      502                  qxre  672.793110    1\n",
       " 1     9852                     x   69.232564    0\n",
       " 2      489              ietimmkw -128.791352    0\n",
       " 3     2100     ddbppnlszodcnl fu -297.874681    0\n",
       " 4     2712            jyrgsnrvnf  672.490051    1\n",
       " 5     7138                 ekjdj  511.694945    0\n",
       " 6     4025              uxswvpwh  270.800763    1\n",
       " 7     1489                    zl -242.482345    0\n",
       " 8     1309    tkagtnqhsamhzfrfe  -293.186089    0\n",
       " 9     9814                 qknmm  798.600793    1\n",
       " 10    3882                 qcd d -967.478161    0\n",
       " 11    3549       pcxhrknredffquq  439.911487    0\n",
       " 12    4284            rwyqppuuyh  209.804672    0\n",
       " 13    8699     ojpzpvgtvlmev srt  316.114771    1\n",
       " 14     340     edpwlbmnfrmfwnbcg  385.482890    0\n",
       " 15    9476            jdujruqh t -106.448668    0\n",
       " 16    5266                     k -164.265570    1\n",
       " 17    1804       evrqfgkdokernum  713.361260    1\n",
       " 18     270  dnrepwkvsrefpmzwudhb -263.746153    0\n",
       " 19    1844             aoarqvsrd  642.315220    0\n",
       " 20    7811       hhnafzfmboepjrq    2.834920    0\n",
       " 21    6775                  xjlm -809.675910    0\n",
       " 22    6885      muynyma zrompvet -306.347478    1\n",
       " 23    7864            ptpbsdvzcs    3.792508    1\n",
       " 24    1489              mtdfzhue  157.415847    1\n",
       " 25    7714  eehmbvebykm afewpmo   825.699298    0\n",
       " 26    8469                bvfkfu  267.853352    0\n",
       " 27    4277                elpbew  651.677043    0\n",
       " 28    2154                     w -259.524805    0\n",
       " 29    6856     vsndshqqdhttyfhcg -918.945144    1\n",
       " 30    2007          yshsqhhzdyct  949.645877    0\n",
       " 31    6723                 xnzya  955.938091    1\n",
       " 32    1332   hb lgcrpribfqywdzd  -159.799416    1\n",
       " 33    9297                     k  220.934470    1\n",
       " 34    1655               hpnuzpo  187.730814    0\n",
       " 35    5823        yppgfwfuvoevxd -531.156300    0\n",
       " 36    5251                  nbn   983.296445    1\n",
       " 37    3917             xlihxrynt  937.227095    0\n",
       " 38    1548         tjmargpi zlqt  980.922809    1\n",
       " 39    1395                   fvs  -10.437840    0\n",
       " 40    4626                     g  990.789193    0\n",
       " 41    2065                  ukmh  460.724410    0\n",
       " 42     913     vpuzasaifdsqxtxyb  968.726795    1\n",
       " 43    5916            sbdnbhiznh  543.139041    1\n",
       " 44     121          za ipqwzozdr   19.331899    1\n",
       " 45    9947  nuoqytackybqlwheexp   475.431901    1\n",
       " 46    3451                  fbsy  475.299964    0\n",
       " 47     448  mnljxfebntbrqghncvkv -842.229435    0\n",
       " 48     168  irdxnhbip jgxngmmxkm -569.749783    0\n",
       " 49    6204                    lr -246.522660    1,\n",
       " 'sales':     saleid  itemid  saledate  quantity  buyername\n",
       " 0     2101    9814      9947      4025       3917\n",
       " 1     9085     121      5266      7864       4025\n",
       " 2     9243    3917      5251       168       1548\n",
       " 3     4724    7864       340      3549       7864\n",
       " 4     7601    1489      9947      3549       9814\n",
       " 5     8316    2100      7864       168       3917\n",
       " 6     8048    7864      2154       340       1548\n",
       " 7     2477    4025      7714      9814        489\n",
       " 8     6054    8469      2712      1844       5823\n",
       " 9     1686    6775      2154      2065       3917\n",
       " 10    4237    4277      2007      7864       3549\n",
       " 11    5035    1489      6885      1309       3451\n",
       " 12     329    1395      9947      1844       3917\n",
       " 13    2933    7138      8699      1332       1804\n",
       " 14    2331    6723      6723      4626        913\n",
       " 15    4830     270      1489      9476       6856\n",
       " 16    2818    3451      8469      6856       3917\n",
       " 17     870    6204      5251      7714       4277\n",
       " 18    5131     502      9947      2007       8699\n",
       " 19    9406    1332      1655      3917       5916\n",
       " 20    5483     913       448       913       8469\n",
       " 21    5453    9297      1489      1548       1844\n",
       " 22    3768     913       913       448       9297\n",
       " 23    5507     340      2154       913        448\n",
       " 24    5856     168      1489      2100       1395\n",
       " 25    4450     489      9852      8469       9476\n",
       " 26    4466    9947      6885      9297       9852\n",
       " 27    8622    1489      8469       270       1844\n",
       " 28    5028    6723      9814      1655       6775\n",
       " 29      47     121      4025       168       6885\n",
       " 30    4318     502      4284      6885        502\n",
       " 31    7032    9814      1655       168       6775\n",
       " 32    6634     448      5916      3451       6723\n",
       " 33    8653    9476      8699      9297       1548\n",
       " 34    7461    1309      9852      2100       1489\n",
       " 35    2752     489      2007      5251       2154\n",
       " 36    6284    1844      7138      2065        448\n",
       " 37    2434    3549      1655      3882       6723\n",
       " 38    4835     489      9947       489        121\n",
       " 39    9280    6723      7864      9947       3549\n",
       " 40    3777    6775      1804      1309       5251\n",
       " 41    5914    3917      8469      1395       8469\n",
       " 42    9819    9476      3917      1844        489\n",
       " 43    2984    6856      2007       913       3451\n",
       " 44    3424     502      1489      4025       2007\n",
       " 45    7030     502      9852      4626       9947\n",
       " 46     505    3451      7714      1489       4284\n",
       " 47    7355    1655      9852      9476       3451\n",
       " 48    2758     270      2154       913       5916\n",
       " 49    6070     168      1489      1489       8469}"
      ]
     },
     "execution_count": 588,
     "metadata": {},
     "output_type": "execute_result"
    }
   ],
   "source": [
    "db"
   ]
  },
  {
   "cell_type": "code",
   "execution_count": 450,
   "metadata": {},
   "outputs": [
    {
     "data": {
      "text/plain": [
       "{'columns': [{'name': 'saleid',\n",
       "   'type': {'type': 'int', 'args': ['16'], 'signed': False},\n",
       "   'null': False},\n",
       "  {'name': 'itemid',\n",
       "   'type': {'type': 'int', 'args': ['16'], 'signed': False},\n",
       "   'null': False},\n",
       "  {'name': 'saledate', 'type': {'type': 'date', 'args': []}, 'null': False},\n",
       "  {'name': 'quantity',\n",
       "   'type': {'type': 'int', 'args': ['16'], 'signed': False},\n",
       "   'null': False},\n",
       "  {'name': 'buyername',\n",
       "   'type': {'type': 'varchar', 'args': ['60']},\n",
       "   'null': True}],\n",
       " 'primary_keys': [['saleid']],\n",
       " 'tablename': 'sales',\n",
       " 'operation': 'create'}"
      ]
     },
     "execution_count": 450,
     "metadata": {},
     "output_type": "execute_result"
    }
   ],
   "source": [
    "parsed['create']['sales']"
   ]
  },
  {
   "cell_type": "code",
   "execution_count": 442,
   "metadata": {},
   "outputs": [
    {
     "name": "stdout",
     "output_type": "stream",
     "text": [
      "{'from': 'itemid', 'to': 'itemid', 'referenced': 'prices'}\n"
     ]
    }
   ],
   "source": [
    "for i in parsed.get('alter').get('sales',{}).get('foreign_keys', []):\n",
    "    print(i)"
   ]
  },
  {
   "cell_type": "code",
   "execution_count": 215,
   "metadata": {},
   "outputs": [],
   "source": [
    "def clean_doc(doc):\n",
    "    \"\"\"clean out extra spaces\n",
    "    \"\"\"\n",
    "    lines = doc.split('\\n')\n",
    "    lines = [\" \".join(l.split()) for l in lines if l and not l.isspace()]\n",
    "    return '\\n'.join(lines)\n",
    "\n",
    "def get_table_name(line):\n",
    "    words = line.split()\n",
    "    if words[1].lower() != 'table'.lower():\n",
    "        raise ValueError(\"You can only create tables, not {}\".format(words[1]))\n",
    "    else:\n",
    "        return words[2]\n",
    "\n",
    "def extract_sql_doc(inputfile):\n",
    "    \"\"\" Extract sql components from the entire document\n",
    "    params:\n",
    "    inputfile: str, name of the input sql file\n",
    "    \"\"\"\n",
    "    with open(inputfile, 'r') as f:\n",
    "        inputstr = f.read()\n",
    "    blocks = clean_doc(inputstr).split(\";\\n\")\n",
    "    components = []\n",
    "    for b in blocks:\n",
    "        components.append(extract_sql_block(b))\n",
    "    return components\n",
    "\n",
    "def extract_sql_block(block):\n",
    "    \"\"\" Parse a block of sql commands and return corresponding\n",
    "    sql components\n",
    "    \"\"\"\n",
    "    operation = block.split()[0].lower()\n",
    "    if operation == 'create':\n",
    "        return parse_create_block(block)\n",
    "    elif operation == 'alter':\n",
    "        return parse_alter_block(block)\n",
    "    else:\n",
    "        raise NotImplementedError(\"{} operation not supported\".format(operation))\n",
    "\n",
    "def extract_datatype(words):\n",
    "    strtype = {}\n",
    "    next_pos = 1\n",
    "    strtype['type'] = (re.findall(\"[a-zA-Z]+\", words[0]))[0].lower()\n",
    "    strtype['args'] = re.findall(\"[0-9]+\", words[0])\n",
    "    if len(words) > 1 and words[1].lower() == 'signed':\n",
    "        strtype['signed'] = True\n",
    "        next_pos += 1\n",
    "    elif len(words) > 1 and words[1].lower() == 'unsigned':\n",
    "        strtype['signed'] = False\n",
    "        next_pos += 1\n",
    "    return strtype, words[next_pos:]\n",
    "\n",
    "def extract_null(words):\n",
    "    ifnull = None\n",
    "    nextpos = 0\n",
    "    if 'not null' in \" \".join([s.lower() for s in words]):\n",
    "        ifnull = False\n",
    "        nextpos = 2\n",
    "    elif 'null' in \" \".join([s.lower() for s in words]):\n",
    "        ifnull = True\n",
    "        nextpos = 1\n",
    "    if len(words) > nextpos:\n",
    "        return ifnull, words[1:]\n",
    "    else:\n",
    "        return ifnull, None\n",
    "\n",
    "def parse_create_block(sql_str):\n",
    "    lines = sql_str.split('\\n')\n",
    "    table = {'columns': [], 'primary_keys': []}\n",
    "    table['tablename'] = get_table_name(lines[0])\n",
    "    for l in lines[1:]:\n",
    "        if 'primary key' in l.lower():\n",
    "            table['primary_keys'].append(parse_keys(l))\n",
    "        elif re.findall(\"[a-zA-Z]+\", l):\n",
    "            table['columns'].append(parse_items(l))\n",
    "    return table\n",
    "\n",
    "def parse_items(l):\n",
    "    c = l.split()\n",
    "    cmds = []\n",
    "    cmds = {'name': c[0]}\n",
    "    cmds['type'], cmd_remaining = extract_datatype(c[1:])\n",
    "    cmds['null'], cmd_remaining = extract_null(cmd_remaining)\n",
    "    return cmds\n",
    "\n",
    "def parse_keys(l):\n",
    "    tokens = re.findall(\"[a-zA-Z]+\", l)\n",
    "    return [t for t in tokens if t.lower() not in('primary', 'key')]\n",
    "\n",
    "def parse_alter_block(sql_cmds):\n",
    "    constraints = [\"constraints placeholder\"]\n",
    "    return constraints"
   ]
  },
  {
   "cell_type": "code",
   "execution_count": 216,
   "metadata": {
    "scrolled": false
   },
   "outputs": [
    {
     "data": {
      "text/plain": [
       "[{'columns': [{'name': 'itemid',\n",
       "    'type': {'type': 'int', 'args': ['16'], 'signed': False},\n",
       "    'null': False},\n",
       "   {'name': 'itemname',\n",
       "    'type': {'type': 'varchar', 'args': ['20']},\n",
       "    'null': False},\n",
       "   {'name': 'price',\n",
       "    'type': {'type': 'decimal', 'args': ['9', '6'], 'signed': True},\n",
       "    'null': False}],\n",
       "  'primary_keys': [['itemid']],\n",
       "  'tablename': 'prices'},\n",
       " {'columns': [{'name': 'saleid',\n",
       "    'type': {'type': 'int', 'args': ['16'], 'signed': False},\n",
       "    'null': False},\n",
       "   {'name': 'itemid',\n",
       "    'type': {'type': 'int', 'args': ['16'], 'signed': False},\n",
       "    'null': False},\n",
       "   {'name': 'saledate', 'type': {'type': 'date', 'args': []}, 'null': False},\n",
       "   {'name': 'quantity',\n",
       "    'type': {'type': 'int', 'args': ['16'], 'signed': False},\n",
       "    'null': False},\n",
       "   {'name': 'buyername',\n",
       "    'type': {'type': 'varchar', 'args': ['60']},\n",
       "    'null': True}],\n",
       "  'primary_keys': [['saleid']],\n",
       "  'tablename': 'sales'},\n",
       " ['constraints placeholder']]"
      ]
     },
     "execution_count": 216,
     "metadata": {},
     "output_type": "execute_result"
    }
   ],
   "source": [
    "extract_sql_doc('../tests/testdata/testschema1.sql')"
   ]
  },
  {
   "cell_type": "code",
   "execution_count": 208,
   "metadata": {},
   "outputs": [
    {
     "data": {
      "text/plain": [
       "['primary', 'key', 'one', 'two', 'three']"
      ]
     },
     "execution_count": 208,
     "metadata": {},
     "output_type": "execute_result"
    }
   ],
   "source": [
    "re.findall(\"[a-zA-Z]+\", \"primary   key (one, two, three)\")"
   ]
  },
  {
   "cell_type": "code",
   "execution_count": 233,
   "metadata": {},
   "outputs": [
    {
     "ename": "ValueError",
     "evalue": "'okk' is not in list",
     "output_type": "error",
     "traceback": [
      "\u001b[0;31m---------------------------------------------------------------------------\u001b[0m",
      "\u001b[0;31mValueError\u001b[0m                                Traceback (most recent call last)",
      "\u001b[0;32m<ipython-input-233-fd4fc3f0b808>\u001b[0m in \u001b[0;36m<module>\u001b[0;34m()\u001b[0m\n\u001b[0;32m----> 1\u001b[0;31m \u001b[0;34m[\u001b[0m\u001b[0;34m'ok'\u001b[0m\u001b[0;34m,\u001b[0m \u001b[0;34m'fine'\u001b[0m\u001b[0;34m]\u001b[0m\u001b[0;34m.\u001b[0m\u001b[0mindex\u001b[0m\u001b[0;34m(\u001b[0m\u001b[0;34m'okk'\u001b[0m\u001b[0;34m)\u001b[0m\u001b[0;34m\u001b[0m\u001b[0m\n\u001b[0m",
      "\u001b[0;31mValueError\u001b[0m: 'okk' is not in list"
     ]
    }
   ],
   "source": [
    "['ok', 'fine'].index('okk')"
   ]
  },
  {
   "cell_type": "code",
   "execution_count": 91,
   "metadata": {},
   "outputs": [
    {
     "data": {
      "text/plain": [
       "{'colname': 'price',\n",
       " 'type': {'type': 'decimal', 'args': ['9', '6'], 'signed': True},\n",
       " 'null': False}"
      ]
     },
     "execution_count": 91,
     "metadata": {},
     "output_type": "execute_result"
    }
   ],
   "source": [
    "parse_create(table_words[3])"
   ]
  },
  {
   "cell_type": "code",
   "execution_count": 50,
   "metadata": {},
   "outputs": [
    {
     "data": {
      "text/plain": [
       "'not null'"
      ]
     },
     "execution_count": 50,
     "metadata": {},
     "output_type": "execute_result"
    }
   ],
   "source": [
    "\" \".join(\" not  null\".split())"
   ]
  },
  {
   "cell_type": "code",
   "execution_count": 242,
   "metadata": {},
   "outputs": [],
   "source": [
    "alterblock = \"\"\"alter table sales\n",
    "   add constraint fk_sales_itemid_prices_itemid foreign key (itemid) references prices (itemid)\n",
    "   ADD CONSTRAINT chk_sales_sold CHECK (sold IN (0, 1));\"\"\""
   ]
  },
  {
   "cell_type": "code",
   "execution_count": 243,
   "metadata": {},
   "outputs": [
    {
     "data": {
      "text/plain": [
       "'alter table sales\\n   add constraint fk_sales_itemid_prices_itemid foreign key (itemid) references prices (itemid)\\n   ADD CONSTRAINT chk_sales_sold CHECK (sold IN (0, 1));'"
      ]
     },
     "execution_count": 243,
     "metadata": {},
     "output_type": "execute_result"
    }
   ],
   "source": [
    "alterblock"
   ]
  },
  {
   "cell_type": "code",
   "execution_count": 245,
   "metadata": {},
   "outputs": [],
   "source": [
    "lines = alterblock.split('\\n')"
   ]
  },
  {
   "cell_type": "code",
   "execution_count": 247,
   "metadata": {},
   "outputs": [
    {
     "data": {
      "text/plain": [
       "'sales'"
      ]
     },
     "execution_count": 247,
     "metadata": {},
     "output_type": "execute_result"
    }
   ],
   "source": [
    "tablename = get_table_name(lines[0])\n",
    "tablename"
   ]
  },
  {
   "cell_type": "code",
   "execution_count": 249,
   "metadata": {},
   "outputs": [
    {
     "data": {
      "text/plain": [
       "'   add constraint fk_sales_itemid_prices_itemid foreign key (itemid) references prices (itemid)'"
      ]
     },
     "execution_count": 249,
     "metadata": {},
     "output_type": "execute_result"
    }
   ],
   "source": [
    "lines[1]"
   ]
  },
  {
   "cell_type": "code",
   "execution_count": 257,
   "metadata": {},
   "outputs": [],
   "source": [
    "tokens = lines[1].split()\n",
    "tokens = [_clean_token(t) for t in tokens]"
   ]
  },
  {
   "cell_type": "code",
   "execution_count": 256,
   "metadata": {},
   "outputs": [],
   "source": [
    "def _clean_token(s):\n",
    "    return re.sub(r'\\W+', '', s)"
   ]
  },
  {
   "cell_type": "code",
   "execution_count": 253,
   "metadata": {},
   "outputs": [
    {
     "data": {
      "text/plain": [
       "'item2'"
      ]
     },
     "execution_count": 253,
     "metadata": {},
     "output_type": "execute_result"
    }
   ],
   "source": [
    "re.sub(r'\\W+', '', '(item2)')"
   ]
  },
  {
   "cell_type": "code",
   "execution_count": 258,
   "metadata": {},
   "outputs": [
    {
     "data": {
      "text/plain": [
       "['add',\n",
       " 'constraint',\n",
       " 'fk_sales_itemid_prices_itemid',\n",
       " 'foreign',\n",
       " 'key',\n",
       " 'itemid',\n",
       " 'references',\n",
       " 'prices',\n",
       " 'itemid']"
      ]
     },
     "execution_count": 258,
     "metadata": {},
     "output_type": "execute_result"
    }
   ],
   "source": [
    "tokens"
   ]
  },
  {
   "cell_type": "code",
   "execution_count": null,
   "metadata": {},
   "outputs": [],
   "source": [
    "reference = {''}"
   ]
  },
  {
   "cell_type": "code",
   "execution_count": 259,
   "metadata": {},
   "outputs": [
    {
     "ename": "SyntaxError",
     "evalue": "'return' outside function (<ipython-input-259-d2bc60ce054d>, line 2)",
     "output_type": "error",
     "traceback": [
      "\u001b[0;36m  File \u001b[0;32m\"<ipython-input-259-d2bc60ce054d>\"\u001b[0;36m, line \u001b[0;32m2\u001b[0m\n\u001b[0;31m    return parse_foreign_keys(tokens)\u001b[0m\n\u001b[0m    ^\u001b[0m\n\u001b[0;31mSyntaxError\u001b[0m\u001b[0;31m:\u001b[0m 'return' outside function\n"
     ]
    }
   ],
   "source": [
    "if tokens[2][:2].lower() == 'fk':\n",
    "     parsed = parse_foreign_keys(tokens)"
   ]
  },
  {
   "cell_type": "code",
   "execution_count": null,
   "metadata": {},
   "outputs": [],
   "source": []
  },
  {
   "cell_type": "code",
   "execution_count": 289,
   "metadata": {},
   "outputs": [
    {
     "data": {
      "text/plain": [
       "0"
      ]
     },
     "execution_count": 289,
     "metadata": {},
     "output_type": "execute_result"
    }
   ],
   "source": [
    "['1', '2'].index('1')"
   ]
  },
  {
   "cell_type": "code",
   "execution_count": null,
   "metadata": {},
   "outputs": [],
   "source": []
  }
 ],
 "metadata": {
  "kernelspec": {
   "display_name": "Python [conda env:schema2db]",
   "language": "python",
   "name": "conda-env-schema2db-py"
  },
  "language_info": {
   "codemirror_mode": {
    "name": "ipython",
    "version": 3
   },
   "file_extension": ".py",
   "mimetype": "text/x-python",
   "name": "python",
   "nbconvert_exporter": "python",
   "pygments_lexer": "ipython3",
   "version": "3.6.5"
  }
 },
 "nbformat": 4,
 "nbformat_minor": 2
}
