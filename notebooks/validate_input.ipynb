{
 "cells": [
  {
   "cell_type": "code",
   "execution_count": 345,
   "metadata": {},
   "outputs": [
    {
     "name": "stdout",
     "output_type": "stream",
     "text": [
      "The autoreload extension is already loaded. To reload it, use:\n",
      "  %reload_ext autoreload\n"
     ]
    }
   ],
   "source": [
    "%load_ext autoreload\n",
    "%autoreload 2\n",
    "\n",
    "from schema2db import validate\n",
    "from schema2db.parse_schema import SchemaParser\n",
    "from schema2db.randomdata import *\n",
    "import re"
   ]
  },
  {
   "cell_type": "code",
   "execution_count": 355,
   "metadata": {},
   "outputs": [
    {
     "name": "stdout",
     "output_type": "stream",
     "text": [
      "6475\n",
      "o\n",
      "8.81\n"
     ]
    }
   ],
   "source": [
    "print(random_int(unsigned=True))\n",
    "print(random_varchar())\n",
    "print(random_decimal(3,2))"
   ]
  },
  {
   "cell_type": "code",
   "execution_count": 296,
   "metadata": {},
   "outputs": [],
   "source": [
    "import pandas as pd\n",
    "import numpy as np"
   ]
  },
  {
   "cell_type": "code",
   "execution_count": 297,
   "metadata": {},
   "outputs": [],
   "source": [
    "inputfile = '../tests/testdata/testschema1.sql'\n",
    "with open(inputfile, 'r') as f:\n",
    "    inputstr = f.read()"
   ]
  },
  {
   "cell_type": "code",
   "execution_count": 298,
   "metadata": {
    "scrolled": false
   },
   "outputs": [
    {
     "name": "stdout",
     "output_type": "stream",
     "text": [
      "{'columns': [{'name': 'itemid', 'type': {'type': 'int', 'args': ['16'], 'signed': False}, 'null': False}, {'name': 'itemname', 'type': {'type': 'varchar', 'args': ['20']}, 'null': False}, {'name': 'price', 'type': {'type': 'decimal', 'args': ['9', '6'], 'signed': True}, 'null': False}, {'name': 'sold', 'type': {'type': 'int', 'args': ['16'], 'signed': False}, 'null': False, 'default': '0,'}], 'primary_keys': [['itemid']], 'tablename': 'prices', 'operation': 'create'}\n",
      "---\n",
      "{'columns': [{'name': 'saleid', 'type': {'type': 'int', 'args': ['16'], 'signed': False}, 'null': False}, {'name': 'itemid', 'type': {'type': 'int', 'args': ['16'], 'signed': False}, 'null': False}, {'name': 'saledate', 'type': {'type': 'date', 'args': []}, 'null': False}, {'name': 'quantity', 'type': {'type': 'int', 'args': ['16'], 'signed': False}, 'null': False}, {'name': 'buyername', 'type': {'type': 'varchar', 'args': ['60']}, 'null': True}], 'primary_keys': [['saleid']], 'tablename': 'sales', 'operation': 'create'}\n",
      "---\n",
      "{'check': [{'type': 'enum', 'column': 'sold', 'values': ['0', '1']}], 'foreign_keys': [{'from': 'itemid', 'to': 'itemid', 'referenced': 'prices'}], 'tablename': 'sales', 'operation': 'alter'}\n",
      "---\n"
     ]
    }
   ],
   "source": [
    "parser = SchemaParser()\n",
    "parsed = parser.extract_sql_doc(\"../tests/testdata/testschema1.sql\")\n",
    "for p in parsed:\n",
    "    print(p)\n",
    "    print('---')"
   ]
  },
  {
   "cell_type": "code",
   "execution_count": 299,
   "metadata": {},
   "outputs": [
    {
     "data": {
      "text/plain": [
       "'create table prices (\\n   itemid int(16) unsigned not null,\\n   itemname varchar(20) not null,\\n   price decimal(9,6) signed not null,\\n   primary key (itemid)\\n)'"
      ]
     },
     "execution_count": 299,
     "metadata": {},
     "output_type": "execute_result"
    }
   ],
   "source": [
    "components[0]"
   ]
  },
  {
   "cell_type": "code",
   "execution_count": 16,
   "metadata": {},
   "outputs": [],
   "source": [
    "table_str = components[0]"
   ]
  },
  {
   "cell_type": "code",
   "execution_count": 215,
   "metadata": {},
   "outputs": [],
   "source": [
    "def clean_doc(doc):\n",
    "    \"\"\"clean out extra spaces\n",
    "    \"\"\"\n",
    "    lines = doc.split('\\n')\n",
    "    lines = [\" \".join(l.split()) for l in lines if l and not l.isspace()]\n",
    "    return '\\n'.join(lines)\n",
    "\n",
    "def get_table_name(line):\n",
    "    words = line.split()\n",
    "    if words[1].lower() != 'table'.lower():\n",
    "        raise ValueError(\"You can only create tables, not {}\".format(words[1]))\n",
    "    else:\n",
    "        return words[2]\n",
    "\n",
    "def extract_sql_doc(inputfile):\n",
    "    \"\"\" Extract sql components from the entire document\n",
    "    params:\n",
    "    inputfile: str, name of the input sql file\n",
    "    \"\"\"\n",
    "    with open(inputfile, 'r') as f:\n",
    "        inputstr = f.read()\n",
    "    blocks = clean_doc(inputstr).split(\";\\n\")\n",
    "    components = []\n",
    "    for b in blocks:\n",
    "        components.append(extract_sql_block(b))\n",
    "    return components\n",
    "\n",
    "def extract_sql_block(block):\n",
    "    \"\"\" Parse a block of sql commands and return corresponding\n",
    "    sql components\n",
    "    \"\"\"\n",
    "    operation = block.split()[0].lower()\n",
    "    if operation == 'create':\n",
    "        return parse_create_block(block)\n",
    "    elif operation == 'alter':\n",
    "        return parse_alter_block(block)\n",
    "    else:\n",
    "        raise NotImplementedError(\"{} operation not supported\".format(operation))\n",
    "\n",
    "def extract_datatype(words):\n",
    "    strtype = {}\n",
    "    next_pos = 1\n",
    "    strtype['type'] = (re.findall(\"[a-zA-Z]+\", words[0]))[0].lower()\n",
    "    strtype['args'] = re.findall(\"[0-9]+\", words[0])\n",
    "    if len(words) > 1 and words[1].lower() == 'signed':\n",
    "        strtype['signed'] = True\n",
    "        next_pos += 1\n",
    "    elif len(words) > 1 and words[1].lower() == 'unsigned':\n",
    "        strtype['signed'] = False\n",
    "        next_pos += 1\n",
    "    return strtype, words[next_pos:]\n",
    "\n",
    "def extract_null(words):\n",
    "    ifnull = None\n",
    "    nextpos = 0\n",
    "    if 'not null' in \" \".join([s.lower() for s in words]):\n",
    "        ifnull = False\n",
    "        nextpos = 2\n",
    "    elif 'null' in \" \".join([s.lower() for s in words]):\n",
    "        ifnull = True\n",
    "        nextpos = 1\n",
    "    if len(words) > nextpos:\n",
    "        return ifnull, words[1:]\n",
    "    else:\n",
    "        return ifnull, None\n",
    "\n",
    "def parse_create_block(sql_str):\n",
    "    lines = sql_str.split('\\n')\n",
    "    table = {'columns': [], 'primary_keys': []}\n",
    "    table['tablename'] = get_table_name(lines[0])\n",
    "    for l in lines[1:]:\n",
    "        if 'primary key' in l.lower():\n",
    "            table['primary_keys'].append(parse_keys(l))\n",
    "        elif re.findall(\"[a-zA-Z]+\", l):\n",
    "            table['columns'].append(parse_items(l))\n",
    "    return table\n",
    "\n",
    "def parse_items(l):\n",
    "    c = l.split()\n",
    "    cmds = []\n",
    "    cmds = {'name': c[0]}\n",
    "    cmds['type'], cmd_remaining = extract_datatype(c[1:])\n",
    "    cmds['null'], cmd_remaining = extract_null(cmd_remaining)\n",
    "    return cmds\n",
    "\n",
    "def parse_keys(l):\n",
    "    tokens = re.findall(\"[a-zA-Z]+\", l)\n",
    "    return [t for t in tokens if t.lower() not in('primary', 'key')]\n",
    "\n",
    "def parse_alter_block(sql_cmds):\n",
    "    constraints = [\"constraints placeholder\"]\n",
    "    return constraints"
   ]
  },
  {
   "cell_type": "code",
   "execution_count": 216,
   "metadata": {
    "scrolled": false
   },
   "outputs": [
    {
     "data": {
      "text/plain": [
       "[{'columns': [{'name': 'itemid',\n",
       "    'type': {'type': 'int', 'args': ['16'], 'signed': False},\n",
       "    'null': False},\n",
       "   {'name': 'itemname',\n",
       "    'type': {'type': 'varchar', 'args': ['20']},\n",
       "    'null': False},\n",
       "   {'name': 'price',\n",
       "    'type': {'type': 'decimal', 'args': ['9', '6'], 'signed': True},\n",
       "    'null': False}],\n",
       "  'primary_keys': [['itemid']],\n",
       "  'tablename': 'prices'},\n",
       " {'columns': [{'name': 'saleid',\n",
       "    'type': {'type': 'int', 'args': ['16'], 'signed': False},\n",
       "    'null': False},\n",
       "   {'name': 'itemid',\n",
       "    'type': {'type': 'int', 'args': ['16'], 'signed': False},\n",
       "    'null': False},\n",
       "   {'name': 'saledate', 'type': {'type': 'date', 'args': []}, 'null': False},\n",
       "   {'name': 'quantity',\n",
       "    'type': {'type': 'int', 'args': ['16'], 'signed': False},\n",
       "    'null': False},\n",
       "   {'name': 'buyername',\n",
       "    'type': {'type': 'varchar', 'args': ['60']},\n",
       "    'null': True}],\n",
       "  'primary_keys': [['saleid']],\n",
       "  'tablename': 'sales'},\n",
       " ['constraints placeholder']]"
      ]
     },
     "execution_count": 216,
     "metadata": {},
     "output_type": "execute_result"
    }
   ],
   "source": [
    "extract_sql_doc('../tests/testdata/testschema1.sql')"
   ]
  },
  {
   "cell_type": "code",
   "execution_count": 208,
   "metadata": {},
   "outputs": [
    {
     "data": {
      "text/plain": [
       "['primary', 'key', 'one', 'two', 'three']"
      ]
     },
     "execution_count": 208,
     "metadata": {},
     "output_type": "execute_result"
    }
   ],
   "source": [
    "re.findall(\"[a-zA-Z]+\", \"primary   key (one, two, three)\")"
   ]
  },
  {
   "cell_type": "code",
   "execution_count": 233,
   "metadata": {},
   "outputs": [
    {
     "ename": "ValueError",
     "evalue": "'okk' is not in list",
     "output_type": "error",
     "traceback": [
      "\u001b[0;31m---------------------------------------------------------------------------\u001b[0m",
      "\u001b[0;31mValueError\u001b[0m                                Traceback (most recent call last)",
      "\u001b[0;32m<ipython-input-233-fd4fc3f0b808>\u001b[0m in \u001b[0;36m<module>\u001b[0;34m()\u001b[0m\n\u001b[0;32m----> 1\u001b[0;31m \u001b[0;34m[\u001b[0m\u001b[0;34m'ok'\u001b[0m\u001b[0;34m,\u001b[0m \u001b[0;34m'fine'\u001b[0m\u001b[0;34m]\u001b[0m\u001b[0;34m.\u001b[0m\u001b[0mindex\u001b[0m\u001b[0;34m(\u001b[0m\u001b[0;34m'okk'\u001b[0m\u001b[0;34m)\u001b[0m\u001b[0;34m\u001b[0m\u001b[0m\n\u001b[0m",
      "\u001b[0;31mValueError\u001b[0m: 'okk' is not in list"
     ]
    }
   ],
   "source": [
    "['ok', 'fine'].index('okk')"
   ]
  },
  {
   "cell_type": "code",
   "execution_count": 91,
   "metadata": {},
   "outputs": [
    {
     "data": {
      "text/plain": [
       "{'colname': 'price',\n",
       " 'type': {'type': 'decimal', 'args': ['9', '6'], 'signed': True},\n",
       " 'null': False}"
      ]
     },
     "execution_count": 91,
     "metadata": {},
     "output_type": "execute_result"
    }
   ],
   "source": [
    "parse_create(table_words[3])"
   ]
  },
  {
   "cell_type": "code",
   "execution_count": 50,
   "metadata": {},
   "outputs": [
    {
     "data": {
      "text/plain": [
       "'not null'"
      ]
     },
     "execution_count": 50,
     "metadata": {},
     "output_type": "execute_result"
    }
   ],
   "source": [
    "\" \".join(\" not  null\".split())"
   ]
  },
  {
   "cell_type": "code",
   "execution_count": 242,
   "metadata": {},
   "outputs": [],
   "source": [
    "alterblock = \"\"\"alter table sales\n",
    "   add constraint fk_sales_itemid_prices_itemid foreign key (itemid) references prices (itemid)\n",
    "   ADD CONSTRAINT chk_sales_sold CHECK (sold IN (0, 1));\"\"\""
   ]
  },
  {
   "cell_type": "code",
   "execution_count": 243,
   "metadata": {},
   "outputs": [
    {
     "data": {
      "text/plain": [
       "'alter table sales\\n   add constraint fk_sales_itemid_prices_itemid foreign key (itemid) references prices (itemid)\\n   ADD CONSTRAINT chk_sales_sold CHECK (sold IN (0, 1));'"
      ]
     },
     "execution_count": 243,
     "metadata": {},
     "output_type": "execute_result"
    }
   ],
   "source": [
    "alterblock"
   ]
  },
  {
   "cell_type": "code",
   "execution_count": 245,
   "metadata": {},
   "outputs": [],
   "source": [
    "lines = alterblock.split('\\n')"
   ]
  },
  {
   "cell_type": "code",
   "execution_count": 247,
   "metadata": {},
   "outputs": [
    {
     "data": {
      "text/plain": [
       "'sales'"
      ]
     },
     "execution_count": 247,
     "metadata": {},
     "output_type": "execute_result"
    }
   ],
   "source": [
    "tablename = get_table_name(lines[0])\n",
    "tablename"
   ]
  },
  {
   "cell_type": "code",
   "execution_count": 249,
   "metadata": {},
   "outputs": [
    {
     "data": {
      "text/plain": [
       "'   add constraint fk_sales_itemid_prices_itemid foreign key (itemid) references prices (itemid)'"
      ]
     },
     "execution_count": 249,
     "metadata": {},
     "output_type": "execute_result"
    }
   ],
   "source": [
    "lines[1]"
   ]
  },
  {
   "cell_type": "code",
   "execution_count": 257,
   "metadata": {},
   "outputs": [],
   "source": [
    "tokens = lines[1].split()\n",
    "tokens = [_clean_token(t) for t in tokens]"
   ]
  },
  {
   "cell_type": "code",
   "execution_count": 256,
   "metadata": {},
   "outputs": [],
   "source": [
    "def _clean_token(s):\n",
    "    return re.sub(r'\\W+', '', s)"
   ]
  },
  {
   "cell_type": "code",
   "execution_count": 253,
   "metadata": {},
   "outputs": [
    {
     "data": {
      "text/plain": [
       "'item2'"
      ]
     },
     "execution_count": 253,
     "metadata": {},
     "output_type": "execute_result"
    }
   ],
   "source": [
    "re.sub(r'\\W+', '', '(item2)')"
   ]
  },
  {
   "cell_type": "code",
   "execution_count": 258,
   "metadata": {},
   "outputs": [
    {
     "data": {
      "text/plain": [
       "['add',\n",
       " 'constraint',\n",
       " 'fk_sales_itemid_prices_itemid',\n",
       " 'foreign',\n",
       " 'key',\n",
       " 'itemid',\n",
       " 'references',\n",
       " 'prices',\n",
       " 'itemid']"
      ]
     },
     "execution_count": 258,
     "metadata": {},
     "output_type": "execute_result"
    }
   ],
   "source": [
    "tokens"
   ]
  },
  {
   "cell_type": "code",
   "execution_count": null,
   "metadata": {},
   "outputs": [],
   "source": [
    "reference = {''}"
   ]
  },
  {
   "cell_type": "code",
   "execution_count": 259,
   "metadata": {},
   "outputs": [
    {
     "ename": "SyntaxError",
     "evalue": "'return' outside function (<ipython-input-259-d2bc60ce054d>, line 2)",
     "output_type": "error",
     "traceback": [
      "\u001b[0;36m  File \u001b[0;32m\"<ipython-input-259-d2bc60ce054d>\"\u001b[0;36m, line \u001b[0;32m2\u001b[0m\n\u001b[0;31m    return parse_foreign_keys(tokens)\u001b[0m\n\u001b[0m    ^\u001b[0m\n\u001b[0;31mSyntaxError\u001b[0m\u001b[0;31m:\u001b[0m 'return' outside function\n"
     ]
    }
   ],
   "source": [
    "if tokens[2][:2].lower() == 'fk':\n",
    "     parsed = parse_foreign_keys(tokens)"
   ]
  },
  {
   "cell_type": "code",
   "execution_count": null,
   "metadata": {},
   "outputs": [],
   "source": []
  },
  {
   "cell_type": "code",
   "execution_count": 289,
   "metadata": {},
   "outputs": [
    {
     "data": {
      "text/plain": [
       "0"
      ]
     },
     "execution_count": 289,
     "metadata": {},
     "output_type": "execute_result"
    }
   ],
   "source": [
    "['1', '2'].index('1')"
   ]
  },
  {
   "cell_type": "code",
   "execution_count": null,
   "metadata": {},
   "outputs": [],
   "source": []
  }
 ],
 "metadata": {
  "kernelspec": {
   "display_name": "Python [conda env:schema2db]",
   "language": "python",
   "name": "conda-env-schema2db-py"
  },
  "language_info": {
   "codemirror_mode": {
    "name": "ipython",
    "version": 3
   },
   "file_extension": ".py",
   "mimetype": "text/x-python",
   "name": "python",
   "nbconvert_exporter": "python",
   "pygments_lexer": "ipython3",
   "version": "3.6.5"
  }
 },
 "nbformat": 4,
 "nbformat_minor": 2
}
